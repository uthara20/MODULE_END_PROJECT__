{
 "cells": [
  {
   "cell_type": "code",
   "execution_count": 6,
   "id": "e9ce227a",
   "metadata": {},
   "outputs": [
    {
     "name": "stdout",
     "output_type": "stream",
     "text": [
      "Index(['Name', 'Team', 'Number', 'Position', 'Age', 'Height', 'Weight',\n",
      "       'College', 'Salary'],\n",
      "      dtype='object')\n"
     ]
    }
   ],
   "source": [
    "import pandas as pd\n",
    "import seaborn as sns\n",
    "import matplotlib.pyplot as plt\n",
    "file_path= r\"C:\\Users\\ACER\\Desktop\\module end project dataset\\myexcel - myexcel.csv\"\n",
    "df= pd.read_csv(file_path)\n",
    "print(df.columns)\n",
    "\n"
   ]
  },
  {
   "cell_type": "code",
   "execution_count": 7,
   "id": "8f3ad7a2",
   "metadata": {},
   "outputs": [
    {
     "data": {
      "text/plain": [
       "Name         0\n",
       "Team         0\n",
       "Number       0\n",
       "Position     0\n",
       "Age          0\n",
       "Height       0\n",
       "Weight       0\n",
       "College     84\n",
       "Salary      11\n",
       "dtype: int64"
      ]
     },
     "execution_count": 7,
     "metadata": {},
     "output_type": "execute_result"
    }
   ],
   "source": [
    "# Performing pre-processing of the dataset\n",
    "# Checking for missing values\n",
    "df.isnull().sum()"
   ]
  },
  {
   "cell_type": "code",
   "execution_count": 8,
   "id": "fbcf664e",
   "metadata": {},
   "outputs": [
    {
     "data": {
      "text/plain": [
       "0"
      ]
     },
     "execution_count": 8,
     "metadata": {},
     "output_type": "execute_result"
    }
   ],
   "source": [
    "# Checking for duplicate rows\n",
    "df.duplicated().sum()"
   ]
  },
  {
   "cell_type": "code",
   "execution_count": null,
   "id": "7a129e4f",
   "metadata": {},
   "outputs": [],
   "source": [
    "# Checking the data types of the columns\n",
    "df.info()"
   ]
  },
  {
   "cell_type": "code",
   "execution_count": 12,
   "id": "57b0fe41",
   "metadata": {},
   "outputs": [],
   "source": [
    "# Converting the height column to numeric type and replacing the incorrect values with random numbers between 150 and 180\n",
    "import numpy as np\n",
    "df['Height'] = pd.to_numeric(df['Height'], errors='coerce')\n",
    "df['Height'] = df['Height'].fillna(np.random.randint(150, 180))"
   ]
  },
  {
   "cell_type": "code",
   "execution_count": 13,
   "id": "44c0a744",
   "metadata": {},
   "outputs": [
    {
     "name": "stdout",
     "output_type": "stream",
     "text": [
      "Team\n",
      "New Orleans Pelicans      19\n",
      "Memphis Grizzlies         18\n",
      "Utah Jazz                 16\n",
      "New York Knicks           16\n",
      "Milwaukee Bucks           16\n",
      "Brooklyn Nets             15\n",
      "Portland Trail Blazers    15\n",
      "Oklahoma City Thunder     15\n",
      "Denver Nuggets            15\n",
      "Washington Wizards        15\n",
      "Miami Heat                15\n",
      "Charlotte Hornets         15\n",
      "Atlanta Hawks             15\n",
      "San Antonio Spurs         15\n",
      "Houston Rockets           15\n",
      "Boston Celtics            15\n",
      "Indiana Pacers            15\n",
      "Detroit Pistons           15\n",
      "Cleveland Cavaliers       15\n",
      "Chicago Bulls             15\n",
      "Sacramento Kings          15\n",
      "Phoenix Suns              15\n",
      "Los Angeles Lakers        15\n",
      "Los Angeles Clippers      15\n",
      "Golden State Warriors     15\n",
      "Toronto Raptors           15\n",
      "Philadelphia 76ers        15\n",
      "Dallas Mavericks          15\n",
      "Orlando Magic             14\n",
      "Minnesota Timberwolves    14\n",
      "Name: count, dtype: int64\n",
      "Team\n",
      "New Orleans Pelicans      4.148472\n",
      "Memphis Grizzlies         3.930131\n",
      "Utah Jazz                 3.493450\n",
      "New York Knicks           3.493450\n",
      "Milwaukee Bucks           3.493450\n",
      "Brooklyn Nets             3.275109\n",
      "Portland Trail Blazers    3.275109\n",
      "Oklahoma City Thunder     3.275109\n",
      "Denver Nuggets            3.275109\n",
      "Washington Wizards        3.275109\n",
      "Miami Heat                3.275109\n",
      "Charlotte Hornets         3.275109\n",
      "Atlanta Hawks             3.275109\n",
      "San Antonio Spurs         3.275109\n",
      "Houston Rockets           3.275109\n",
      "Boston Celtics            3.275109\n",
      "Indiana Pacers            3.275109\n",
      "Detroit Pistons           3.275109\n",
      "Cleveland Cavaliers       3.275109\n",
      "Chicago Bulls             3.275109\n",
      "Sacramento Kings          3.275109\n",
      "Phoenix Suns              3.275109\n",
      "Los Angeles Lakers        3.275109\n",
      "Los Angeles Clippers      3.275109\n",
      "Golden State Warriors     3.275109\n",
      "Toronto Raptors           3.275109\n",
      "Philadelphia 76ers        3.275109\n",
      "Dallas Mavericks          3.275109\n",
      "Orlando Magic             3.056769\n",
      "Minnesota Timberwolves    3.056769\n",
      "Name: proportion, dtype: float64\n"
     ]
    }
   ],
   "source": [
    "#  How many are there in each Team and the percentage splitting with respect to the total employees\n",
    "team_count = df['Team'].value_counts()\n",
    "team_percent = df['Team'].value_counts(normalize=True) * 100\n",
    "print(team_count)\n",
    "print(team_percent)"
   ]
  },
  {
   "cell_type": "code",
   "execution_count": 14,
   "id": "db0847f1",
   "metadata": {},
   "outputs": [
    {
     "name": "stdout",
     "output_type": "stream",
     "text": [
      "Position\n",
      "SG    102\n",
      "PF    100\n",
      "PG     92\n",
      "SF     85\n",
      "C      79\n",
      "Name: count, dtype: int64\n"
     ]
    }
   ],
   "source": [
    "# Segregate the employees w.r.t different positions\n",
    "position_count = df['Position'].value_counts()\n",
    "print(position_count)"
   ]
  },
  {
   "cell_type": "code",
   "execution_count": 15,
   "id": "5a4e778c",
   "metadata": {},
   "outputs": [
    {
     "name": "stdout",
     "output_type": "stream",
     "text": [
      "Age\n",
      "20-30    346\n",
      "30-40     91\n",
      "40-50      0\n",
      "50-60      0\n",
      "Name: count, dtype: int64\n"
     ]
    }
   ],
   "source": [
    "#  Find from which age group most of the employees belong to\n",
    "age_group = pd.cut(df['Age'], bins=[20, 30, 40, 50, 60], labels=['20-30', '30-40', '40-50', '50-60'])\n",
    "age_group_count = age_group.value_counts()\n",
    "print(age_group_count)"
   ]
  },
  {
   "cell_type": "code",
   "execution_count": 16,
   "id": "4e58373e",
   "metadata": {},
   "outputs": [
    {
     "name": "stdout",
     "output_type": "stream",
     "text": [
      "Team                Position\n",
      "Atlanta Hawks       C           22756250.0\n",
      "                    PF          23952268.0\n",
      "                    PG           9763400.0\n",
      "                    SF           6000000.0\n",
      "                    SG          10431032.0\n",
      "                                   ...    \n",
      "Washington Wizards  C           24490429.0\n",
      "                    PF          11300000.0\n",
      "                    PG          18022415.0\n",
      "                    SF          11158800.0\n",
      "                    SG          11356992.0\n",
      "Name: Salary, Length: 149, dtype: float64\n"
     ]
    }
   ],
   "source": [
    "#  Find out under which team and position, spending in terms of salary is high\n",
    "team_position_salary = df.groupby(['Team', 'Position'])['Salary'].sum()\n",
    "print(team_position_salary)"
   ]
  },
  {
   "cell_type": "code",
   "execution_count": 17,
   "id": "385412a0",
   "metadata": {},
   "outputs": [
    {
     "name": "stdout",
     "output_type": "stream",
     "text": [
      "             Age    Salary\n",
      "Age     1.000000  0.214009\n",
      "Salary  0.214009  1.000000\n"
     ]
    },
    {
     "data": {
      "image/png": "[encoded data removed]",
      "text/plain": [
       "<Figure size 640x480 with 1 Axes>"
      ]
     },
     "metadata": {},
     "output_type": "display_data"
    }
   ],
   "source": [
    "# Find if there is any correlation between age and salary , represent it visually\n",
    "age_salary_corr = df[['Age', 'Salary']].corr()\n",
    "print(age_salary_corr)\n",
    "sns.scatterplot(x='Age', y='Salary', data=df)\n",
    "plt.show()"
   ]
  },
  {
   "cell_type": "code",
   "execution_count": null,
   "id": "9fbdcaa6",
   "metadata": {},
   "outputs": [],
   "source": []
  }
 ],
 "metadata": {
  "kernelspec": {
   "display_name": "Python 3 (ipykernel)",
   "language": "python",
   "name": "python3"
  },
  "language_info": {
   "codemirror_mode": {
    "name": "ipython",
    "version": 3
   },
   "file_extension": ".py",
   "mimetype": "text/x-python",
   "name": "python",
   "nbconvert_exporter": "python",
   "pygments_lexer": "ipython3",
   "version": "3.11.2"
  }
 },
 "nbformat": 4,
 "nbformat_minor": 5
}
